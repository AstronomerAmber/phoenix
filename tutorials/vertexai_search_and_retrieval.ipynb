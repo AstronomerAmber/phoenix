{
 "cells": [
  {
   "attachments": {},
   "cell_type": "markdown",
   "metadata": {},
   "source": [
    "<center>\n",
    "    <p style=\"text-align:center\">\n",
    "        <img alt=\"arize langchain pinecone logos\" src=\"https://storage.googleapis.com/arize-assets/phoenix/assets/docs/notebooks/langchain-pinecone-search-and-retrieval/arize_langchain_pinecone.png\" width=\"750\"/>\n",
    "        <br>\n",
    "        <a href=\"https://cloud.google.com/vertex-ai\">VertexAI</a>\n",
    "        |\n",
    "        <a href=\"https://github.com/Arize-ai/phoenix\">Arize-Phoenix</a>\n",
    "        |\n",
    "        <a href=\"https://github.com/hwchase17/langchain\">LangChain</a>\n",
    "        |\n",
    "        <a href=\"https://www.pinecone.io/\">Pinecone</a>\n",
    "    </p>\n",
    "</center>\n",
    "<h1 align=\"center\">Evaluating and Improving Search and Retrieval Applications</h1>\n",
    "\n",
    "Imagine you're an engineer at Arize AI and you've built and deployed a documentation question-answering service using LangChain, Pinecone, and Google's VertexAI platform. Users send questions about Arize's core product via a chat interface, and your service retrieves chunks of your indexed documentation in order to generate a response to the user. As the engineer in charge of maintaining this system, you want to evaluate the quality of the responses from your service.\n",
    "\n",
    "Phoenix helps you:\n",
    "- identify gaps in your documentation\n",
    "- detect queries for which the LLM gave bad responses\n",
    "- detect failures to retrieve relevant context\n",
    "\n",
    "In this tutorial, you will:\n",
    "\n",
    "- Ask questions of a LangChain application backed by VertexAI and Pinecone over a knowledge base of the Arize documentation\n",
    "- Use Phoenix to visualize user queries and knowledge base documents to identify areas of user interest not answered by your documentation\n",
    "- Find clusters of responses with negative user feedback\n",
    "- Identify failed retrievals using query density, cosine similarity, Euclidean distance, and LLM-assisted ranking metrics\n",
    "\n",
    "Parts of this notebook require a GCP account with the VertexAI API enabled and a Pinecone API key to run. If you don't have these, you can still use Phoenix by skipping cells with the ❗ emoji.\n",
    "\n",
    "⚠️ This notebook assumes you've already indexed the Arize documentation. Run this [script](https://github.com/Arize-ai/phoenix/blob/vertexai-search-and-retrieval/tutorials/build_arize_docs_index_langchain_pinecone.py) to build your own Pinecone index over the Arize documentation with VertexAI.\n",
    "\n",
    "Let's get started!"
   ]
  },
  {
   "attachments": {},
   "cell_type": "markdown",
   "metadata": {},
   "source": [
    "## 1. Install Dependencies and Import Libraries"
   ]
  },
  {
   "attachments": {},
   "cell_type": "markdown",
   "metadata": {},
   "source": [
    "Install Phoenix, LangChain, Pinecone, and the VertexAI API."
   ]
  },
  {
   "cell_type": "code",
   "execution_count": null,
   "metadata": {},
   "outputs": [],
   "source": [
    "!pip install -q arize-phoenix google-cloud-aiplatform langchain pinecone-client"
   ]
  },
  {
   "attachments": {},
   "cell_type": "markdown",
   "metadata": {},
   "source": [
    "Import libraries."
   ]
  },
  {
   "cell_type": "code",
   "execution_count": null,
   "metadata": {},
   "outputs": [],
   "source": [
    "import textwrap\n",
    "from typing import Dict, List, Optional, Tuple\n",
    "\n",
    "import numpy as np\n",
    "import numpy.typing as npt\n",
    "import pandas as pd\n",
    "import phoenix as px\n",
    "import pinecone\n",
    "import vertexai\n",
    "from langchain.chains import RetrievalQA\n",
    "from langchain.chat_models import ChatVertexAI\n",
    "from langchain.docstore.document import Document\n",
    "from langchain.embeddings.vertexai import VertexAIEmbeddings\n",
    "from langchain.vectorstores import Pinecone\n",
    "from tenacity import (\n",
    "    retry,\n",
    "    stop_after_attempt,\n",
    "    wait_random_exponential,\n",
    ")\n",
    "from tqdm import tqdm\n",
    "import vertexai\n",
    "from vertexai.preview.language_models import TextGenerationModel\n",
    "\n",
    "pd.set_option(\"display.max_colwidth\", None)"
   ]
  },
  {
   "attachments": {},
   "cell_type": "markdown",
   "metadata": {},
   "source": [
    "## 2. Configure Your GCP Project and Location"
   ]
  },
  {
   "attachments": {},
   "cell_type": "markdown",
   "metadata": {},
   "source": [
    "❗ Configure your GCP project and location."
   ]
  },
  {
   "cell_type": "code",
   "execution_count": null,
   "metadata": {},
   "outputs": [],
   "source": [
    "gcp_project_id = \"copy paste your gcp project id here\"\n",
    "gcp_location = \"copy paste your gcp location here\"\n",
    "assert gcp_project_id != \"copy paste your gcp project id here\", \"❌ Please set your GCP project id\"\n",
    "assert gcp_location != \"copy paste your gcp location here\", \"❌ Please set your GCP location\"\n",
    "vertexai.init(project=gcp_project_id, location=gcp_location)"
   ]
  },
  {
   "attachments": {},
   "cell_type": "markdown",
   "metadata": {},
   "source": [
    "## 3. Configure Your Pinecone API Key and Environment"
   ]
  },
  {
   "attachments": {},
   "cell_type": "markdown",
   "metadata": {},
   "source": [
    "❗ Configure your Pinecone API key and environment."
   ]
  },
  {
   "cell_type": "code",
   "execution_count": null,
   "metadata": {},
   "outputs": [],
   "source": [
    "pinecone_api_key = \"copy paste your api key here\"\n",
    "pinecone_environment = \"copy paste your environment here\"\n",
    "pinecone_index_name = \"copy paste your index name here\"\n",
    "assert pinecone_api_key != \"copy paste your api key here\", \"❌ Please set your Pinecone API key\"\n",
    "assert (\n",
    "    pinecone_environment != \"copy paste your environment here\"\n",
    "), \"❌ Please set your Pinecone environment\"\n",
    "assert (\n",
    "    pinecone_index_name != \"copy paste your index name here\"\n",
    "), \"❌ Please set your Pinecone index name\"\n",
    "pinecone.init(api_key=pinecone_api_key, environment=pinecone_environment)"
   ]
  },
  {
   "attachments": {},
   "cell_type": "markdown",
   "metadata": {},
   "source": [
    "## 4. Run Your Question-Answering Service"
   ]
  },
  {
   "attachments": {},
   "cell_type": "markdown",
   "metadata": {},
   "source": [
    "❗ Define a wrapper class around `lanchain.embeddings.vertexai.VertexAIEmbeddings` to record query and document embeddings."
   ]
  },
  {
   "cell_type": "code",
   "execution_count": null,
   "metadata": {},
   "outputs": [],
   "source": [
    "class VertexAIEmbeddingsWrapper(VertexAIEmbeddings):\n",
    "    \"\"\"\n",
    "    Wrapper around VertexAIEmbeddings that stores the query and document embeddings in memory.\n",
    "    \"\"\"\n",
    "\n",
    "    query_text_to_embedding: Dict[str, List[float]] = {}\n",
    "    document_text_to_embedding: Dict[str, List[float]] = {}\n",
    "\n",
    "    def embed_query(self, text: str) -> List[float]:\n",
    "        embedding = super().embed_query(text)\n",
    "        self.query_text_to_embedding[text] = embedding\n",
    "        return embedding\n",
    "\n",
    "    def embed_documents(self, texts: List[str], batch_size: int = 5) -> List[List[float]]:\n",
    "        embeddings = super().embed_documents(texts, batch_size)\n",
    "        for text, embedding in zip(texts, embeddings):\n",
    "            self.document_text_to_embedding[text] = embedding\n",
    "        return embeddings\n",
    "\n",
    "    @property\n",
    "    def query_embedding_dataframe(self) -> pd.DataFrame:\n",
    "        return self._convert_text_to_embedding_map_to_dataframe(self.query_text_to_embedding)\n",
    "\n",
    "    @property\n",
    "    def document_embedding_dataframe(self) -> pd.DataFrame:\n",
    "        return self._convert_text_to_embedding_map_to_dataframe(self.document_text_to_embedding)\n",
    "\n",
    "    @staticmethod\n",
    "    def _convert_text_to_embedding_map_to_dataframe(\n",
    "        text_to_embedding: Dict[str, List[float]]\n",
    "    ) -> pd.DataFrame:\n",
    "        texts, embeddings = map(list, zip(*text_to_embedding.items()))\n",
    "        embedding_arrays = [np.array(embedding) for embedding in embeddings]\n",
    "        return pd.DataFrame.from_dict(\n",
    "            {\n",
    "                \"text\": texts,\n",
    "                \"text_vector\": embedding_arrays,\n",
    "            }\n",
    "        )"
   ]
  },
  {
   "attachments": {},
   "cell_type": "markdown",
   "metadata": {},
   "source": [
    "❗ Define a wrapper around `langchain.vectorstores.Pinecone` to record retrieval data, including the retrieved pieces of context for each query and the associated similarity scores between query and context embeddings."
   ]
  },
  {
   "cell_type": "code",
   "execution_count": null,
   "metadata": {},
   "outputs": [],
   "source": [
    "class PineconeWrapper(Pinecone):\n",
    "    query_text_to_document_score_tuples: Dict[str, List[Tuple[Document, float]]] = {}\n",
    "\n",
    "    def similarity_search_with_score(\n",
    "        self,\n",
    "        query: str,\n",
    "        k: int = 4,\n",
    "        filter: Optional[dict] = None,\n",
    "        namespace: Optional[str] = None,\n",
    "    ) -> List[Tuple[Document, float]]:\n",
    "        document_score_tuples = super().similarity_search_with_score(\n",
    "            query=query,\n",
    "            k=k,\n",
    "            filter=filter,\n",
    "            namespace=namespace,\n",
    "        )\n",
    "        self.query_text_to_document_score_tuples[query] = document_score_tuples\n",
    "        return document_score_tuples\n",
    "\n",
    "    @property\n",
    "    def retrieval_dataframe(self) -> pd.DataFrame:\n",
    "        query_texts = []\n",
    "        document_texts = []\n",
    "        retrieval_ranks = []\n",
    "        scores = []\n",
    "        for query_text, document_score_tuples in self.query_text_to_document_score_tuples.items():\n",
    "            for retrieval_rank, (document, score) in enumerate(document_score_tuples):\n",
    "                query_texts.append(query_text)\n",
    "                document_texts.append(document.page_content)\n",
    "                retrieval_ranks.append(retrieval_rank)\n",
    "                scores.append(score)\n",
    "        return pd.DataFrame.from_dict(\n",
    "            {\n",
    "                \"query_text\": query_texts,\n",
    "                \"document_text\": document_texts,\n",
    "                \"retrieval_rank\": retrieval_ranks,\n",
    "                \"score\": scores,\n",
    "            }\n",
    "        )"
   ]
  },
  {
   "attachments": {},
   "cell_type": "markdown",
   "metadata": {},
   "source": [
    "❗ Define an instance of `langchain.chains.RetrievalQA` using `VertexAIEmbeddingsWrapper` and `PineconeWrapper`."
   ]
  },
  {
   "cell_type": "code",
   "execution_count": null,
   "metadata": {},
   "outputs": [],
   "source": [
    "num_retrieved_documents = 2\n",
    "embeddings = VertexAIEmbeddingsWrapper()\n",
    "docsearch = PineconeWrapper.from_existing_index(\n",
    "    index_name=pinecone_index_name,\n",
    "    embedding=embeddings,\n",
    ")\n",
    "llm = ChatVertexAI()\n",
    "chain = RetrievalQA.from_chain_type(\n",
    "    llm=llm,\n",
    "    chain_type=\"stuff\",\n",
    "    retriever=docsearch.as_retriever(search_kwargs={\"k\": num_retrieved_documents}),\n",
    ")"
   ]
  },
  {
   "attachments": {},
   "cell_type": "markdown",
   "metadata": {},
   "source": [
    "❗ Run a query and display the results, including the final response from the chatbot, the retrieved pieces of context and associated similarity scores, and a portion of the query embedding."
   ]
  },
  {
   "cell_type": "code",
   "execution_count": null,
   "metadata": {},
   "outputs": [],
   "source": [
    "query_text = \"How do I get an Arize API key?\"\n",
    "# query_text = \"What's the difference between primary and baseline datasets?\"\n",
    "# query_text = \"How do I send in extra metadata with each record?\"\n",
    "# query_text = \"How does Arize's surrogate explainability model work?\"\n",
    "\n",
    "response_text = chain.run(query_text)\n",
    "retrievals_df = docsearch.retrieval_dataframe.tail(num_retrieved_documents)\n",
    "contexts = retrievals_df[\"document_text\"].to_list()\n",
    "scores = retrievals_df[\"score\"].to_list()\n",
    "query_embedding = embeddings.query_embedding_dataframe[\"text_vector\"].iloc[-1]\n",
    "\n",
    "print(\"Response\")\n",
    "print(\"========\")\n",
    "print()\n",
    "for line in textwrap.wrap(response_text.strip(), width=80):\n",
    "    print(line)\n",
    "print()\n",
    "\n",
    "for context_index, (context, score) in enumerate(zip(contexts, scores)):\n",
    "    print(f\"Retrieved Context {context_index}\")\n",
    "    print(\"===================\")\n",
    "    print()\n",
    "\n",
    "    for line in textwrap.wrap(context.strip(), width=80):\n",
    "        print(line)\n",
    "    print()\n",
    "    print(f\"score: {score}\")\n",
    "    print()\n",
    "\n",
    "print(\"Query Embedding\")\n",
    "print(\"===============\")\n",
    "print()\n",
    "\n",
    "print(query_embedding)\n",
    "print()\n",
    "print(f\"dimension: {len(query_embedding)}\")"
   ]
  },
  {
   "attachments": {},
   "cell_type": "markdown",
   "metadata": {},
   "source": [
    "## 5. Load Your Data Into Pandas Dataframes"
   ]
  },
  {
   "attachments": {},
   "cell_type": "markdown",
   "metadata": {},
   "source": [
    "To use Phoenix, you must load your data into Pandas dataframes. First, load your knowledge base into a dataframe."
   ]
  },
  {
   "cell_type": "code",
   "execution_count": null,
   "metadata": {},
   "outputs": [],
   "source": [
    "database_df = pd.read_parquet(\n",
    "    \"http://storage.googleapis.com/arize-assets/phoenix/datasets/unstructured/llm/context-retrieval/langchain-pinecone/database.parquet\"\n",
    ")\n",
    "database_df.head()"
   ]
  },
  {
   "attachments": {},
   "cell_type": "markdown",
   "metadata": {},
   "source": [
    "The columns of your dataframe are:\n",
    "- **text:** the chunked text in your knowledge base\n",
    "- **text_vector:** the embedding vector for the text, computed during the LangChain build using the \"textembedding-gecko\" embedding model from VertexAI"
   ]
  },
  {
   "attachments": {},
   "cell_type": "markdown",
   "metadata": {},
   "source": [
    "Next, download a dataframe containing query data."
   ]
  },
  {
   "cell_type": "code",
   "execution_count": null,
   "metadata": {},
   "outputs": [],
   "source": [
    "query_df = pd.read_parquet(\n",
    "    \"http://storage.googleapis.com/arize-assets/phoenix/datasets/unstructured/llm/context-retrieval/langchain-pinecone/langchain_pinecone_query_dataframe_with_user_feedbackv2.parquet\"\n",
    ")\n",
    "query_df.head()"
   ]
  },
  {
   "attachments": {},
   "cell_type": "markdown",
   "metadata": {},
   "source": [
    "The columns of the dataframe are:\n",
    "- **text:** the query text\n",
    "- **text_vector:** the embedding representation of the query, captured from LangChain at query time\n",
    "- **response:** the final response from the LangChain application\n",
    "- **context_text_0:** the first retrieved context from the knowledge base\n",
    "- **context_similarity_0:** the cosine similarity between the query and the first retrieved context\n",
    "- **context_text_1:** the second retrieved context from the knowledge base\n",
    "- **context_similarity_1:** the cosine similarity between the query and the first retrieved context\n",
    "- **user_feedback:** approval or rejection from the user (-1 means thumbs down, +1 means thumbs up)"
   ]
  },
  {
   "attachments": {},
   "cell_type": "markdown",
   "metadata": {},
   "source": [
    "The query and database datasets are drawn from different distributions; the queries are short questions while the database entries are several sentences to a paragraph. The embeddings from VertexAI's \"textembedding-gecko\" capture these differences and naturally separate the query and context embeddings into distinct regions of the embedding space. When using Phoenix, you want to \"overlay\" the query and context embedding distributions so that queries appear close to their retrieved context in the Phoenix point cloud. To achieve this, we compute a centroid for each dataset that represents an average point in the embedding distribution and center the two distributions so they overlap."
   ]
  },
  {
   "cell_type": "code",
   "execution_count": null,
   "metadata": {},
   "outputs": [],
   "source": [
    "database_centroid = database_df[\"text_vector\"].mean()\n",
    "database_df[\"centered_text_vector\"] = database_df[\"text_vector\"].apply(\n",
    "    lambda x: x - database_centroid\n",
    ")\n",
    "query_centroid = query_df[\"text_vector\"].mean()\n",
    "query_df[\"centered_text_vector\"] = query_df[\"text_vector\"].apply(lambda x: x - query_centroid)"
   ]
  },
  {
   "attachments": {},
   "cell_type": "markdown",
   "metadata": {},
   "source": [
    "## 6. Compute Proxy Metrics for Retrieval Quality"
   ]
  },
  {
   "attachments": {},
   "cell_type": "markdown",
   "metadata": {},
   "source": [
    "Cosine similarity and Euclidean distance can act as proxies for retrieval quality. The cosine distance between query and retrieved context was computed at query time and is part of the query dataframe downloaded above. Compute the Euclidean distance between each query embedding and retrieved context embedding and add corresponding columns to the query dataframe."
   ]
  },
  {
   "cell_type": "code",
   "execution_count": null,
   "metadata": {},
   "outputs": [],
   "source": [
    "def compute_euclidean_distance(\n",
    "    vector0: npt.NDArray[np.float32], vector1: npt.NDArray[np.float32]\n",
    ") -> float:\n",
    "    \"\"\"\n",
    "    Computes the Euclidean distance between two vectors.\n",
    "    \"\"\"\n",
    "    return np.linalg.norm(vector0 - vector1)\n",
    "\n",
    "\n",
    "num_retrieved_documents = 2\n",
    "for context_index in range(num_retrieved_documents):\n",
    "    euclidean_distances = []\n",
    "    for _, row in query_df.iterrows():\n",
    "        query_embedding = row[\"text_vector\"]\n",
    "        context_text = row[f\"context_text_{context_index}\"]\n",
    "        database_row = database_df[database_df[\"text\"] == context_text].iloc[0]\n",
    "        database_embedding = database_row[\"text_vector\"]\n",
    "        euclidean_distance = compute_euclidean_distance(query_embedding, database_embedding)\n",
    "        euclidean_distances.append(euclidean_distance)\n",
    "    query_df[f\"euclidean_distance_{context_index}\"] = euclidean_distances\n",
    "query_df.head()"
   ]
  },
  {
   "attachments": {},
   "cell_type": "markdown",
   "metadata": {},
   "source": [
    "## 7. Run LLM-Assisted Evaluations"
   ]
  },
  {
   "attachments": {},
   "cell_type": "markdown",
   "metadata": {},
   "source": [
    "Cosine similarity and Euclidean distance are reasonable proxies for retrieval quality, but they don't always work perfectly. A novel idea is to use LLMs to measure retrieval quality by simply asking the LLM whether each piece of retrieved context is relevant or irrelevant to the corresponding query."
   ]
  },
  {
   "attachments": {},
   "cell_type": "markdown",
   "metadata": {},
   "source": [
    "Use Google's `text-bison` model to predict whether each retrieved document is relevant or irrelevant to the query."
   ]
  },
  {
   "cell_type": "code",
   "execution_count": null,
   "metadata": {},
   "outputs": [],
   "source": [
    "EVALUATION_PROMPT_TEMPLATE = \"\"\"You will be given a query and a reference text. You must determine whether the reference text contains an answer to the input query. Your response must be binary (0 or 1) and should not contain any text or characters aside from 0 or 1. 0 means that the reference text does not contain an answer to the query. 1 means the reference text contains an answer to the query.\n",
    "\n",
    "# Query: {query}\n",
    "\n",
    "# Reference: {reference}\n",
    "\n",
    "# Binary: \"\"\"\n",
    "\n",
    "\n",
    "@retry(wait=wait_random_exponential(min=1, max=60), stop=stop_after_attempt(6))\n",
    "def evaluate_query_and_retrieved_context(\n",
    "    query: str,\n",
    "    context: str,\n",
    "    model,\n",
    ") -> str:\n",
    "    evaluation_prompt = EVALUATION_PROMPT_TEMPLATE.format(\n",
    "        query=query,\n",
    "        reference=context,\n",
    "    )\n",
    "    response = model.predict(\n",
    "        evaluation_prompt,\n",
    "        temperature=0.1,\n",
    "        max_output_tokens=5,\n",
    "    )\n",
    "    return response.text\n",
    "\n",
    "\n",
    "def evaluate_retrievals(\n",
    "    retrievals_data: Dict[str, str],\n",
    "    model_name: str,\n",
    ") -> List[str]:\n",
    "    model = TextGenerationModel.from_pretrained(model_name)\n",
    "    responses = []\n",
    "    for query, retrieved_context in tqdm(retrievals_data.items()):\n",
    "        response = evaluate_query_and_retrieved_context(\n",
    "            query,\n",
    "            retrieved_context,\n",
    "            model,\n",
    "        )\n",
    "        responses.append(response)\n",
    "    return responses\n",
    "\n",
    "\n",
    "def process_binary_responses(\n",
    "    binary_responses: List[str], binary_to_string_map: Dict[int, str]\n",
    ") -> List[str]:\n",
    "    \"\"\"\n",
    "    Parse binary responses and convert to the desired format\n",
    "    converts them to the desired format. The binary_to_string_map parameter\n",
    "    should be a dictionary mapping binary values (0 or 1) to the desired\n",
    "    string values (e.g. \"irrelevant\" or \"relevant\").\n",
    "    \"\"\"\n",
    "    processed_responses = []\n",
    "    for binary_response in binary_responses:\n",
    "        try:\n",
    "            binary_value = int(binary_response.strip())\n",
    "            processed_response = binary_to_string_map[binary_value]\n",
    "        except (ValueError, KeyError):\n",
    "            processed_response = None\n",
    "        processed_responses.append(processed_response)\n",
    "    return processed_responses\n",
    "\n",
    "sample_query_df = query_df.head(10).copy()\n",
    "evaluation_model_name = \"text-bison\"\n",
    "for context_index in range(num_retrieved_documents):\n",
    "    retrievals_data = {\n",
    "        row[\"text\"]: row[f\"context_text_{context_index}\"] for _, row in sample_query_df.iterrows()\n",
    "    }\n",
    "    raw_responses = evaluate_retrievals(retrievals_data, evaluation_model_name)\n",
    "    processed_responses = process_binary_responses(raw_responses, {0: \"irrelevant\", 1: \"relevant\"})\n",
    "    sample_query_df[f\"text_bison_relevance_{context_index}\"] = processed_responses\n",
    "sample_query_df[\n",
    "    [\"text\", \"context_text_0\", \"text_bison_relevance_0\", \"context_text_1\", \"text_bison_relevance_1\"]\n",
    "].head(10)"
   ]
  },
  {
   "attachments": {},
   "cell_type": "markdown",
   "metadata": {},
   "source": [
    "Running evaluations across the entire dataset takes a while, so download a dataset of pre-computed evaluations and add to the query dataframe."
   ]
  },
  {
   "cell_type": "code",
   "execution_count": null,
   "metadata": {},
   "outputs": [],
   "source": [
    "text_bison_evaluations_df = pd.read_parquet(\n",
    "    \"http://storage.googleapis.com/arize-assets/phoenix/datasets/unstructured/llm/context-retrieval/langchain-pinecone/langchain_pinecone_openai_evaluations.parquet\",\n",
    ")[[\"text\", \"text_bison_relevance_0\", \"text_bison_relevance_1\"]]\n",
    "query_df = pd.merge(query_df, text_bison_evaluations_df, on=\"text\")\n",
    "query_df[[\"text\", \"context_text_0\", \"context_text_1\", \"text_bison_relevance_0\", \"text_bison_relevance_1\"]]"
   ]
  },
  {
   "attachments": {},
   "cell_type": "markdown",
   "metadata": {},
   "source": [
    "## 8. Compute Ranking Metrics"
   ]
  },
  {
   "attachments": {},
   "cell_type": "markdown",
   "metadata": {},
   "source": [
    "Now that you know whether each piece of retrieved context is relevant or irrelevant to the corresponding query, you can compute precision@k for k = 1, 2 for each query. This metric tells you what percentage of the retrieved context is relevant to the corresponding query.\n",
    "\n",
    "precision@k = (# of top-k retrieved documents that are relevant) / (k retrieved documents)\n",
    "\n",
    "If your precision@2 is greater than zero for a particular query, your LangChain application successfully retrieved at least one relevant piece of context with which to answer the query. If the precision@k is zero for a particular query, that means that no relevant piece of context was retrieved."
   ]
  },
  {
   "attachments": {},
   "cell_type": "markdown",
   "metadata": {},
   "source": [
    "Compute precision@k for k = 1, 2 and view the results."
   ]
  },
  {
   "cell_type": "code",
   "execution_count": null,
   "metadata": {},
   "outputs": [],
   "source": [
    "num_relevant_documents_array = np.zeros(len(query_df))\n",
    "for retrieved_context_index in range(0, num_retrieved_documents):\n",
    "    num_retrieved_documents = retrieved_context_index + 1\n",
    "    num_relevant_documents_array += (\n",
    "        query_df[f\"text_bison_relevance_{retrieved_context_index}\"]\n",
    "        .map(lambda x: int(x == \"relevant\"))\n",
    "        .to_numpy()\n",
    "    )\n",
    "    query_df[f\"text_bison_precision_at_{num_retrieved_documents}\"] = pd.Series(\n",
    "        num_relevant_documents_array / num_retrieved_documents\n",
    "    )\n",
    "\n",
    "query_df[\n",
    "    [\n",
    "        \"text_bison_relevance_0\",\n",
    "        \"text_bison_relevance_1\",\n",
    "        \"text_bison_precision_at_1\",\n",
    "        \"text_bison_precision_at_2\",\n",
    "    ]\n",
    "]"
   ]
  },
  {
   "attachments": {},
   "cell_type": "markdown",
   "metadata": {},
   "source": [
    "## 9. Launch Phoenix"
   ]
  },
  {
   "attachments": {},
   "cell_type": "markdown",
   "metadata": {},
   "source": [
    "Define a schema to tell Phoenix what the columns of your query and database dataframes represent (features, predictions, actuals, tags, embeddings, etc.). See the [docs](https://docs.arize.com/phoenix/) for guides on how to define your own schema and API reference on `phoenix.Schema` and `phoenix.EmbeddingColumnNames`."
   ]
  },
  {
   "cell_type": "code",
   "execution_count": null,
   "metadata": {},
   "outputs": [],
   "source": [
    "query_df[\"response_vector\"] = query_df[\n",
    "    \"centered_text_vector\"\n",
    "].copy()  # the response requires an embedding, but we don't have one, so we just use the prompt embedding\n",
    "query_schema = px.Schema(\n",
    "    prompt_column_names=px.EmbeddingColumnNames(\n",
    "        raw_data_column_name=\"text\",\n",
    "        vector_column_name=\"centered_text_vector\",\n",
    "    ),\n",
    "    response_column_names=px.EmbeddingColumnNames(\n",
    "        raw_data_column_name=\"response\",\n",
    "        vector_column_name=\"response_vector\",\n",
    "    ),\n",
    "    tag_column_names=[\n",
    "        \"context_text_0\",\n",
    "        \"context_similarity_0\",\n",
    "        \"context_text_1\",\n",
    "        \"context_similarity_1\",\n",
    "        \"euclidean_distance_0\",\n",
    "        \"euclidean_distance_1\",\n",
    "        \"text_bison_relevance_0\",\n",
    "        \"text_bison_relevance_1\",\n",
    "        \"text_bison_precision_at_1\",\n",
    "        \"text_bison_precision_at_2\",\n",
    "        \"user_feedback\",\n",
    "    ],\n",
    ")\n",
    "database_schema = px.Schema(\n",
    "    prompt_column_names=px.EmbeddingColumnNames(\n",
    "        raw_data_column_name=\"text\",\n",
    "        vector_column_name=\"centered_text_vector\",\n",
    "    ),\n",
    ")"
   ]
  },
  {
   "attachments": {},
   "cell_type": "markdown",
   "metadata": {},
   "source": [
    "Create Phoenix datasets that wrap your dataframes with the schemas that describe them."
   ]
  },
  {
   "cell_type": "code",
   "execution_count": null,
   "metadata": {},
   "outputs": [],
   "source": [
    "database_ds = px.Dataset(\n",
    "    dataframe=database_df,\n",
    "    schema=database_schema,\n",
    "    name=\"database\",\n",
    ")\n",
    "query_ds = px.Dataset(\n",
    "    dataframe=query_df,\n",
    "    schema=query_schema,\n",
    "    name=\"query\",\n",
    ")"
   ]
  },
  {
   "attachments": {},
   "cell_type": "markdown",
   "metadata": {},
   "source": [
    "Launch Phoenix. Follow the instructions in the cell output to open the Phoenix UI."
   ]
  },
  {
   "cell_type": "code",
   "execution_count": null,
   "metadata": {},
   "outputs": [],
   "source": [
    "session = px.launch_app(query_ds, database_ds)"
   ]
  }
 ],
 "metadata": {
  "language_info": {
   "name": "python"
  }
 },
 "nbformat": 4,
 "nbformat_minor": 2
}
